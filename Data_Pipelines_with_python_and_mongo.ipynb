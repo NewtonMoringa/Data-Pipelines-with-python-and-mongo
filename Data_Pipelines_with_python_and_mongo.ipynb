{
  "nbformat": 4,
  "nbformat_minor": 0,
  "metadata": {
    "colab": {
      "provenance": []
    },
    "kernelspec": {
      "name": "python3",
      "display_name": "Python 3"
    },
    "language_info": {
      "name": "python"
    }
  },
  "cells": [
    {
      "cell_type": "code",
      "source": [
        "import pymongo\n",
        "import pandas as pd\n",
        "import logging\n",
        "import zlib\n"
      ],
      "metadata": {
        "id": "4oQ1S4Chvjlf"
      },
      "execution_count": 4,
      "outputs": []
    },
    {
      "cell_type": "code",
      "source": [
        "\n",
        "# Extraction function\n",
        "def extract_data():\n",
        "    # Load call log data from CSV file\n",
        "    call_logs = pd.read_csv('call_logs.csv')\n",
        "\n",
        "    # Load billing data from CSV file\n",
        "    # billing_data = pd.read_csv('billing_systems.csv')\n",
        "\n",
        "    # Merge the two datasets based on common columns\n",
        "    # merged_data = pd.merge(call_logs, billing_data, on=['caller_number', 'call_date'])\n",
        "\n",
        "    # Convert call duration to minutes for easier analysis\n",
        "    call_logs['duration_minutes'] = call_logs['call_duration'] / 60\n",
        "\n",
        "    # Use Python logging module to log errors and activities\n",
        "    logger = logging.getLogger(__name__)\n",
        "    logger.info(\"Data extraction completed.\")\n",
        "\n",
        "    return call_logs\n",
        "\n",
        "# Transformation function\n",
        "def transform_data(df):\n",
        "    # Data cleaning and handling missing values\n",
        "    df = df.dropna()\n",
        "\n",
        "    # Group and aggregate the data\n",
        "    # ...\n",
        "\n",
        "    # Identify patterns in the data\n",
        "    # ...\n",
        "\n",
        "    # Use data compression techniques to optimize performance\n",
        "    \n",
        "    d = df.to_dict('records')\n",
        "    transformed_data = zlib.compress(bytes(str(d), 'utf-8'))\n",
        "\n",
        "    # Use Python logging module to log errors and activities\n",
        "    logger = logging.getLogger(__name__)\n",
        "    logger.info(\"Data transformation completed.\")\n",
        "    \n",
        "    return transformed_data\n",
        "\n",
        "# Loading function\n",
        "def load_data(transformed_data):\n",
        "    host = \"localhost\"\n",
        "    port = 27017\n",
        "    db_name = \"pymongo\"\n",
        "    collection_name = \"pymongo\"\n",
        "    # Connect to MongoDB\n",
        "    client = pymongo.MongoClient(host, port, ssl=True)\n",
        "    db = client[db_name]\n",
        "    collection = db[collection_name]\n",
        "\n",
        "    # Create indexes on the collection\n",
        "    db.collection.create_index(\"phone_number\")\n",
        "\n",
        "    # Use bulk inserts to optimize performance\n",
        "    result = collection.insert_many(transformed_data)\n",
        "\n",
        "    # Use the write concern option to ensure that data is written to disk\n",
        "    collection.acknowledge_writes(w=1, j=True)\n",
        "\n",
        "    # Use Python logging module to log errors and activities\n",
        "    logger = logging.getLogger(__name__)\n",
        "    logger.info(\"Data loading completed.\")\n",
        "    return result\n",
        "\n",
        "# Example usage\n",
        "if __name__ == '__main__':\n",
        "    data = extract_data()\n",
        "    transformed_data = transform_data(data)\n",
        "    load_data(transformed_data)"
      ],
      "metadata": {
        "id": "Gwx46Bf2v0er"
      },
      "execution_count": 32,
      "outputs": []
    }
  ]
}